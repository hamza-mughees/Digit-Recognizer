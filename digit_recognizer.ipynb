{
 "cells": [
  {
   "cell_type": "code",
   "execution_count": 1,
   "metadata": {},
   "outputs": [],
   "source": [
    "import tensorflow as tf"
   ]
  },
  {
   "cell_type": "code",
   "execution_count": 2,
   "metadata": {},
   "outputs": [],
   "source": [
    "(X_train, y_train), (X_test, y_test) = tf.keras.datasets.mnist.load_data()"
   ]
  },
  {
   "cell_type": "code",
   "execution_count": 3,
   "metadata": {},
   "outputs": [],
   "source": [
    "X_train = X_train.reshape(-1, 28, 28, 1)\n",
    "X_test = X_test.reshape(-1, 28, 28, 1)"
   ]
  },
  {
   "cell_type": "code",
   "execution_count": 4,
   "metadata": {},
   "outputs": [],
   "source": [
    "X_train = X_train.astype('float32')\n",
    "X_test = X_test.astype('float32')"
   ]
  },
  {
   "cell_type": "code",
   "execution_count": 5,
   "metadata": {},
   "outputs": [],
   "source": [
    "X_train /= 255\n",
    "X_test /= 255"
   ]
  },
  {
   "cell_type": "code",
   "execution_count": 6,
   "metadata": {},
   "outputs": [],
   "source": [
    "# one hot encoding of training and test labels\n",
    "y_train = tf.keras.utils.to_categorical(y_train)\n",
    "y_test = tf.keras.utils.to_categorical(y_test)"
   ]
  },
  {
   "cell_type": "code",
   "execution_count": 7,
   "metadata": {},
   "outputs": [],
   "source": [
    "from sklearn.model_selection import train_test_split\n",
    "X_train, X_validate, y_train, y_validate = train_test_split(X_train, y_train, test_size=0.2, random_state=13)"
   ]
  },
  {
   "cell_type": "code",
   "execution_count": 8,
   "metadata": {},
   "outputs": [],
   "source": [
    "batch_size = 64\n",
    "epochs = 20\n",
    "num_classes = 10"
   ]
  },
  {
   "cell_type": "code",
   "execution_count": 9,
   "metadata": {},
   "outputs": [],
   "source": [
    "from tensorflow.keras.models import Sequential, Model\n",
    "from tensorflow.keras.layers import Dense, Dropout, Flatten, Conv2D, MaxPool2D, LeakyReLU"
   ]
  },
  {
   "cell_type": "code",
   "execution_count": 10,
   "metadata": {},
   "outputs": [],
   "source": [
    "cnn = Sequential()"
   ]
  },
  {
   "cell_type": "code",
   "execution_count": 11,
   "metadata": {},
   "outputs": [],
   "source": [
    "cnn.add(Conv2D(32, kernel_size=3, activation='linear', input_shape=(28, 28, 1), padding='same'))\n",
    "cnn.add(LeakyReLU(alpha=0.1))\n",
    "cnn.add(MaxPool2D((2, 2), padding='same'))"
   ]
  },
  {
   "cell_type": "code",
   "execution_count": 12,
   "metadata": {},
   "outputs": [],
   "source": [
    "cnn.add(Dropout(0.25))"
   ]
  },
  {
   "cell_type": "code",
   "execution_count": 13,
   "metadata": {
    "scrolled": true
   },
   "outputs": [],
   "source": [
    "cnn.add(Conv2D(64, 3, activation='linear', padding='same'))\n",
    "cnn.add(LeakyReLU(alpha=0.1))\n",
    "cnn.add(MaxPool2D((2, 2), padding='same'))"
   ]
  },
  {
   "cell_type": "code",
   "execution_count": 14,
   "metadata": {},
   "outputs": [],
   "source": [
    "cnn.add(Dropout(0.25))"
   ]
  },
  {
   "cell_type": "code",
   "execution_count": 15,
   "metadata": {},
   "outputs": [],
   "source": [
    "cnn.add(Conv2D(128, 3, activation='linear', padding='same'))\n",
    "cnn.add(LeakyReLU(alpha=0.1))                  \n",
    "cnn.add(MaxPool2D(pool_size=(2, 2), padding='same'))"
   ]
  },
  {
   "cell_type": "code",
   "execution_count": 16,
   "metadata": {},
   "outputs": [],
   "source": [
    "cnn.add(Dropout(0.4))"
   ]
  },
  {
   "cell_type": "code",
   "execution_count": 17,
   "metadata": {},
   "outputs": [],
   "source": [
    "cnn.add(Flatten())\n",
    "cnn.add(Dense(128, activation='linear'))\n",
    "cnn.add(LeakyReLU(alpha=0.1))"
   ]
  },
  {
   "cell_type": "code",
   "execution_count": 18,
   "metadata": {},
   "outputs": [],
   "source": [
    "cnn.add(Dropout(0.3))"
   ]
  },
  {
   "cell_type": "code",
   "execution_count": 19,
   "metadata": {},
   "outputs": [],
   "source": [
    "cnn.add(Dense(num_classes, activation='softmax'))"
   ]
  },
  {
   "cell_type": "code",
   "execution_count": 20,
   "metadata": {},
   "outputs": [],
   "source": [
    "cnn.compile(loss=tf.keras.losses.categorical_crossentropy, optimizer=tf.keras.optimizers.Adam(), metrics=['accuracy'])"
   ]
  },
  {
   "cell_type": "code",
   "execution_count": 21,
   "metadata": {},
   "outputs": [
    {
     "name": "stdout",
     "output_type": "stream",
     "text": [
      "Model: \"sequential\"\n",
      "_________________________________________________________________\n",
      "Layer (type)                 Output Shape              Param #   \n",
      "=================================================================\n",
      "conv2d (Conv2D)              (None, 28, 28, 32)        320       \n",
      "_________________________________________________________________\n",
      "leaky_re_lu (LeakyReLU)      (None, 28, 28, 32)        0         \n",
      "_________________________________________________________________\n",
      "max_pooling2d (MaxPooling2D) (None, 14, 14, 32)        0         \n",
      "_________________________________________________________________\n",
      "dropout (Dropout)            (None, 14, 14, 32)        0         \n",
      "_________________________________________________________________\n",
      "conv2d_1 (Conv2D)            (None, 14, 14, 64)        18496     \n",
      "_________________________________________________________________\n",
      "leaky_re_lu_1 (LeakyReLU)    (None, 14, 14, 64)        0         \n",
      "_________________________________________________________________\n",
      "max_pooling2d_1 (MaxPooling2 (None, 7, 7, 64)          0         \n",
      "_________________________________________________________________\n",
      "dropout_1 (Dropout)          (None, 7, 7, 64)          0         \n",
      "_________________________________________________________________\n",
      "conv2d_2 (Conv2D)            (None, 7, 7, 128)         73856     \n",
      "_________________________________________________________________\n",
      "leaky_re_lu_2 (LeakyReLU)    (None, 7, 7, 128)         0         \n",
      "_________________________________________________________________\n",
      "max_pooling2d_2 (MaxPooling2 (None, 4, 4, 128)         0         \n",
      "_________________________________________________________________\n",
      "dropout_2 (Dropout)          (None, 4, 4, 128)         0         \n",
      "_________________________________________________________________\n",
      "flatten (Flatten)            (None, 2048)              0         \n",
      "_________________________________________________________________\n",
      "dense (Dense)                (None, 128)               262272    \n",
      "_________________________________________________________________\n",
      "leaky_re_lu_3 (LeakyReLU)    (None, 128)               0         \n",
      "_________________________________________________________________\n",
      "dropout_3 (Dropout)          (None, 128)               0         \n",
      "_________________________________________________________________\n",
      "dense_1 (Dense)              (None, 10)                1290      \n",
      "=================================================================\n",
      "Total params: 356,234\n",
      "Trainable params: 356,234\n",
      "Non-trainable params: 0\n",
      "_________________________________________________________________\n"
     ]
    }
   ],
   "source": [
    "cnn.summary()"
   ]
  },
  {
   "cell_type": "code",
   "execution_count": 22,
   "metadata": {},
   "outputs": [
    {
     "name": "stdout",
     "output_type": "stream",
     "text": [
      "Epoch 1/20\n",
      "750/750 [==============================] - 52s 70ms/step - loss: 0.2719 - accuracy: 0.9099 - val_loss: 0.0638 - val_accuracy: 0.9805\n",
      "Epoch 2/20\n",
      "750/750 [==============================] - 48s 63ms/step - loss: 0.0835 - accuracy: 0.9737 - val_loss: 0.0568 - val_accuracy: 0.9832\n",
      "Epoch 3/20\n",
      "750/750 [==============================] - 46s 62ms/step - loss: 0.0630 - accuracy: 0.9803 - val_loss: 0.0362 - val_accuracy: 0.9898\n",
      "Epoch 4/20\n",
      "750/750 [==============================] - 47s 63ms/step - loss: 0.0535 - accuracy: 0.9828 - val_loss: 0.0318 - val_accuracy: 0.9904\n",
      "Epoch 5/20\n",
      "750/750 [==============================] - 49s 65ms/step - loss: 0.0462 - accuracy: 0.9859 - val_loss: 0.0340 - val_accuracy: 0.9902\n",
      "Epoch 6/20\n",
      "750/750 [==============================] - 50s 66ms/step - loss: 0.0416 - accuracy: 0.9864 - val_loss: 0.0307 - val_accuracy: 0.9908\n",
      "Epoch 7/20\n",
      "750/750 [==============================] - 50s 67ms/step - loss: 0.0390 - accuracy: 0.9875 - val_loss: 0.0288 - val_accuracy: 0.9912\n",
      "Epoch 8/20\n",
      "750/750 [==============================] - 51s 68ms/step - loss: 0.0350 - accuracy: 0.9891 - val_loss: 0.0299 - val_accuracy: 0.9920\n",
      "Epoch 9/20\n",
      "750/750 [==============================] - 52s 70ms/step - loss: 0.0320 - accuracy: 0.9896 - val_loss: 0.0291 - val_accuracy: 0.9918\n",
      "Epoch 10/20\n",
      "750/750 [==============================] - 52s 69ms/step - loss: 0.0303 - accuracy: 0.9906 - val_loss: 0.0296 - val_accuracy: 0.9916\n",
      "Epoch 11/20\n",
      "750/750 [==============================] - 53s 70ms/step - loss: 0.0284 - accuracy: 0.9907 - val_loss: 0.0323 - val_accuracy: 0.9917\n",
      "Epoch 12/20\n",
      "750/750 [==============================] - 53s 71ms/step - loss: 0.0274 - accuracy: 0.9913 - val_loss: 0.0245 - val_accuracy: 0.9933\n",
      "Epoch 13/20\n",
      "750/750 [==============================] - 54s 72ms/step - loss: 0.0275 - accuracy: 0.9916 - val_loss: 0.0302 - val_accuracy: 0.9913\n",
      "Epoch 14/20\n",
      "750/750 [==============================] - 54s 72ms/step - loss: 0.0237 - accuracy: 0.9921 - val_loss: 0.0255 - val_accuracy: 0.9931\n",
      "Epoch 15/20\n",
      "750/750 [==============================] - 55s 74ms/step - loss: 0.0245 - accuracy: 0.9917 - val_loss: 0.0273 - val_accuracy: 0.9926\n",
      "Epoch 16/20\n",
      "750/750 [==============================] - 54s 73ms/step - loss: 0.0224 - accuracy: 0.9928 - val_loss: 0.0314 - val_accuracy: 0.9921\n",
      "Epoch 17/20\n",
      "750/750 [==============================] - 54s 72ms/step - loss: 0.0231 - accuracy: 0.9919 - val_loss: 0.0267 - val_accuracy: 0.9933\n",
      "Epoch 18/20\n",
      "750/750 [==============================] - 54s 72ms/step - loss: 0.0214 - accuracy: 0.9928 - val_loss: 0.0283 - val_accuracy: 0.9928\n",
      "Epoch 19/20\n",
      "750/750 [==============================] - 54s 72ms/step - loss: 0.0208 - accuracy: 0.9931 - val_loss: 0.0259 - val_accuracy: 0.9935\n",
      "Epoch 20/20\n",
      "750/750 [==============================] - 55s 74ms/step - loss: 0.0217 - accuracy: 0.9930 - val_loss: 0.0270 - val_accuracy: 0.9929\n"
     ]
    },
    {
     "data": {
      "text/plain": [
       "<tensorflow.python.keras.callbacks.History at 0x1b37fd61af0>"
      ]
     },
     "execution_count": 22,
     "metadata": {},
     "output_type": "execute_result"
    }
   ],
   "source": [
    "cnn.fit(X_train, y_train, batch_size=batch_size, epochs=epochs, verbose=1, validation_data=(X_validate, y_validate))"
   ]
  },
  {
   "cell_type": "code",
   "execution_count": 23,
   "metadata": {},
   "outputs": [
    {
     "name": "stdout",
     "output_type": "stream",
     "text": [
      "WARNING:tensorflow:From C:\\Users\\hamza\\Documents\\Anaconda\\lib\\site-packages\\tensorflow\\python\\training\\tracking\\tracking.py:111: Model.state_updates (from tensorflow.python.keras.engine.training) is deprecated and will be removed in a future version.\n",
      "Instructions for updating:\n",
      "This property should not be used in TensorFlow 2.0, as updates are applied automatically.\n",
      "WARNING:tensorflow:From C:\\Users\\hamza\\Documents\\Anaconda\\lib\\site-packages\\tensorflow\\python\\training\\tracking\\tracking.py:111: Layer.updates (from tensorflow.python.keras.engine.base_layer) is deprecated and will be removed in a future version.\n",
      "Instructions for updating:\n",
      "This property should not be used in TensorFlow 2.0, as updates are applied automatically.\n",
      "INFO:tensorflow:Assets written to: mnist.h5py\\assets\n"
     ]
    }
   ],
   "source": [
    "cnn.save('mnist.h5py')"
   ]
  },
  {
   "cell_type": "code",
   "execution_count": 24,
   "metadata": {},
   "outputs": [
    {
     "name": "stdout",
     "output_type": "stream",
     "text": [
      "313/313 [==============================] - 3s 9ms/step - loss: 0.0204 - accuracy: 0.9940\n",
      "Test loss: 0.02041202411055565\n",
      "Test accuracy: 0.9940000176429749\n"
     ]
    }
   ],
   "source": [
    "test_eval = cnn.evaluate(X_test, y_test, verbose=1)\n",
    "print('Test loss:', test_eval[0])\n",
    "print('Test accuracy:', test_eval[1])"
   ]
  }
 ],
 "metadata": {
  "kernelspec": {
   "display_name": "Python 3",
   "language": "python",
   "name": "python3"
  },
  "language_info": {
   "codemirror_mode": {
    "name": "ipython",
    "version": 3
   },
   "file_extension": ".py",
   "mimetype": "text/x-python",
   "name": "python",
   "nbconvert_exporter": "python",
   "pygments_lexer": "ipython3",
   "version": "3.8.3"
  }
 },
 "nbformat": 4,
 "nbformat_minor": 4
}
